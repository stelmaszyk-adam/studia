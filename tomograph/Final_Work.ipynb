{
 "cells": [
  {
   "cell_type": "markdown",
   "metadata": {},
   "source": [
    "# Część na 3.0"
   ]
  },
  {
   "cell_type": "code",
   "execution_count": null,
   "metadata": {},
   "outputs": [],
   "source": [
    "import numpy as np\n",
    "import matplotlib.pyplot as plt\n",
    "from bresenham import bresenham\n",
    "import imageio\n",
    "import pydicom\n",
    "from pydicom.data import get_testdata_files\n",
    "from scipy import ndimage\n",
    "from scipy.fftpack import fft, ifft, fftfreq"
   ]
  },
  {
   "cell_type": "code",
   "execution_count": null,
   "metadata": {},
   "outputs": [],
   "source": [
    "alfa = 1\n",
    "n = 150\n",
    "l = 90"
   ]
  },
  {
   "cell_type": "code",
   "execution_count": null,
   "metadata": {},
   "outputs": [],
   "source": [
    "\n",
    "def emiterPosition(angle, i, n, r, l, offset):\n",
    "    x = r * np.cos( np.radians(angle) ) + offset[0]\n",
    "    y = r * np.sin( np.radians(angle) ) + offset[1]\n",
    "    return (x,y)"
   ]
  },
  {
   "cell_type": "code",
   "execution_count": null,
   "metadata": {},
   "outputs": [],
   "source": [
    "\n",
    "def sensorPosition(angle, i, n, r, l, offset):\n",
    "    x = r * np.cos( np.radians(angle) + np.pi - np.radians(l)/2 + i * ( np.radians(l) / (n-1) ) ) + offset[0]\n",
    "    y = r * np.sin( np.radians(angle) + np.pi - np.radians(l)/2 + i * ( np.radians(l) / (n-1) ) ) + offset[1]\n",
    "    return (x,y)"
   ]
  },
  {
   "cell_type": "code",
   "execution_count": null,
   "metadata": {},
   "outputs": [],
   "source": [
    "\"\"\"\n",
    "Symulacja laseru przechodzącego liniowo przez obraz image z punktu start do punktu end.\n",
    "Należy policzyć, ile mocy lasera zostanie pochłonięte, skorzystaj z funkcji bresenham\n",
    "\"\"\"\n",
    "def beam(image, start, end):\n",
    "    w, h = image.shape\n",
    "    x = bresenham(int(start[0]), int(start[1]), int(end[0]), int(end[1]))\n",
    "    y = np.array(list(x))\n",
    "    y = y[y[:,0] >= 0]\n",
    "    y = y[y[:,0] < w]\n",
    "    y = y[y[:,1] >= 0]\n",
    "    y = y[y[:,1] < h]\n",
    "    return np.sum(image[y[:,0],y[:,1]])"
   ]
  },
  {
   "cell_type": "code",
   "execution_count": null,
   "metadata": {},
   "outputs": [],
   "source": [
    "def makeGif(gif, filename):\n",
    "    scale = gif[-1].max()\n",
    "    gif = list(map(lambda x: (x/scale*255).astype(np.uint8), gif))\n",
    "    imageio.mimsave(filename+\".gif\", gif)"
   ]
  },
  {
   "cell_type": "code",
   "execution_count": null,
   "metadata": {},
   "outputs": [],
   "source": [
    "def radon_iwm(img_gray, alfa, n, l, R, gifFlag=True, filter=False):   \n",
    "    gif = []\n",
    "    gif_f = []\n",
    "    result = np.zeros((n, len(np.arange(-90,90,alfa))))\n",
    "    result_filtered = np.zeros((n, len(np.arange(-90,90,alfa))))\n",
    "    for i,angle in enumerate(np.arange(-90,90,alfa)[::-1]):\n",
    "        result[..., i] = np.array([beam(img_gray, \n",
    "                                         emiterPosition(angle, sensor, n, R, l, (img_gray.shape[1]/2, img_gray.shape[0]/2)),\n",
    "                                         sensorPosition(angle, sensor, n, R, l, (img_gray.shape[1]/2, img_gray.shape[0]/2)))\n",
    "                                   for sensor in range(n)])\n",
    "        if gifFlag:\n",
    "            gif.append(result.copy())\n",
    "    if gifFlag:\n",
    "        makeGif(gif, \"radon\")\n",
    "    if filter:\n",
    "        sinogram = result.copy()\n",
    "        f = fftfreq(sinogram.shape[0]).reshape(-1, 1)\n",
    "        fourier_filter = 2 * np.abs(f)\n",
    "\n",
    "        projection = fft(sinogram, axis=0) * fourier_filter\n",
    "        sinogram = np.real(ifft(projection, axis=0))\n",
    "        return sinogram/sinogram.max()\n",
    "    return result/result.max()"
   ]
  },
  {
   "cell_type": "code",
   "execution_count": null,
   "metadata": {},
   "outputs": [],
   "source": [
    "def inverseRadon_iwn(radon, shape, alfa, n, l, R, gifFlag=True, filter=False):\n",
    "    width, height = shape\n",
    "    gif = []\n",
    "    result = np.zeros(shape)\n",
    "    R = max(shape)*2**.5+10\n",
    "    for i, angle in enumerate(np.arange(-90,90,alfa)[::-1]):\n",
    "        for sensor in range(n):\n",
    "            start = emiterPosition(angle, sensor, n, R, l, (shape[1]/2, shape[0]/2))\n",
    "            end = sensorPosition(angle, sensor, n, R, l, (shape[1]/2, shape[0]/2))\n",
    "\n",
    "            x = bresenham(int(start[0]), int(start[1]), int(end[0]), int(end[1]))\n",
    "            y = np.array(list(x))\n",
    "            y = y[y[:,0] >= 0]\n",
    "            y = y[y[:,0] < width]\n",
    "            y = y[y[:,1] >= 0]\n",
    "            y = y[y[:,1] < height]\n",
    "            \n",
    "            \n",
    "            result[y[:,0], y[:,1]] += radon[sensor][i]\n",
    "        if gifFlag:\n",
    "            gif.append(result.copy()/result.max())\n",
    "    if gifFlag:\n",
    "        makeGif(gif, \"inverse\")\n",
    "    return result/result.max()"
   ]
  },
  {
   "cell_type": "code",
   "execution_count": null,
   "metadata": {},
   "outputs": [],
   "source": [
    "def projekt1(file, alfa, n, l,gifFlag, filter):\n",
    "    img = plt.imread(file)\n",
    "    img_gray = img[...,0]\n",
    "    plt.imshow(img_gray)\n",
    "    R = (max(img_gray.shape))*2**.5+10 \n",
    "    radon = radon_iwm(img_gray, alfa, n, l, R, gifFlag, filter)\n",
    "    plt.imshow(radon, cmap=plt.cm.bone)\n",
    "    plt.show()\n",
    "    iradon = inverseRadon_iwn(radon, img_gray.shape, alfa, n, l, R, gifFlag, filter)\n",
    "    plt.imshow(iradon, cmap=plt.cm.bone)\n",
    "    plt.show()\n",
    "    return iradon"
   ]
  },
  {
   "cell_type": "code",
   "execution_count": null,
   "metadata": {},
   "outputs": [],
   "source": [
    "\n",
    "iradon = projekt1(\"Kropka.jpg\", alfa, n, l, gifFlag=False, filter=False)\n",
    "plt.imshow(iradon, cmap=plt.cm.bone)\n",
    "plt.show()"
   ]
  },
  {
   "cell_type": "code",
   "execution_count": null,
   "metadata": {},
   "outputs": [],
   "source": [
    "iradon = projekt1(\"Kropka.jpg\", alfa, n, l, gifFlag=False, filter=True)\n",
    "plt.imshow(iradon, cmap=plt.cm.bone)\n",
    "plt.show()"
   ]
  },
  {
   "cell_type": "markdown",
   "metadata": {},
   "source": [
    "## Część na 4.0"
   ]
  },
  {
   "cell_type": "code",
   "execution_count": null,
   "metadata": {},
   "outputs": [],
   "source": [
    "import os\n",
    "import tempfile\n",
    "import datetime\n",
    "\n",
    "import pydicom\n",
    "from pydicom import dcmread\n",
    "from pydicom.dataset import Dataset, FileDataset"
   ]
  },
  {
   "cell_type": "code",
   "execution_count": null,
   "metadata": {},
   "outputs": [],
   "source": [
    "def write_dicom(array, filename=\"iradon.dcm\", name=\"Test^Firstname\", patientID=\"123456\"):\n",
    "    # Create some temporary filenames\n",
    "    print(\"Setting file meta information...\")\n",
    "    filename_little_endian = tempfile.NamedTemporaryFile(suffix=\".dcm\").name\n",
    "    # Populate required values for file meta information\n",
    "    file_meta = Dataset()\n",
    "    file_meta.MediaStorageSOPClassUID = '1.2.840.10008.5.1.4.1.1.2'\n",
    "    file_meta.MediaStorageSOPInstanceUID = \"1.2.3\"\n",
    "    file_meta.ImplementationClassUID = \"1.2.3.4\"\n",
    "\n",
    "    print(\"Setting dataset values...\")\n",
    "    # Create the FileDataset instance (initially no data elements, but file_meta\n",
    "    # supplied)\n",
    "    ds = FileDataset(filename_little_endian, {},\n",
    "                     file_meta=file_meta, preamble=b\"\\0\" * 128)\n",
    "\n",
    "    # Add the data elements -- not trying to set all required here. Check DICOM\n",
    "    # standard\n",
    "    ds.PatientName = name\n",
    "    ds.PatientID = patientID\n",
    "\n",
    "    # Set the transfer syntax\n",
    "    ds.is_little_endian = True\n",
    "    ds.is_implicit_VR = True\n",
    "\n",
    "    # Set creation date/time\n",
    "    dt = datetime.datetime.now()\n",
    "    ds.ContentDate = dt.strftime('%Y%m%d')\n",
    "    timeStr = dt.strftime('%H%M%S.%f')  # long format with micro seconds\n",
    "    ds.ContentTime = timeStr\n",
    "\n",
    "    # Set pixel array\n",
    "    ds.PixelData = np.array(array*255, dtype=np.int8).tobytes() #create photo in bits\n",
    "    ds.Rows, ds.Columns = array.shape # shape\n",
    "    ds.file_meta.TransferSyntaxUID = pydicom.uid.ImplicitVRLittleEndian\n",
    "    \n",
    "    ds.PixelRepresentation = 0 \n",
    "    ds.BitsAllocated = 8 # 8bitów na pixels\n",
    "    ds.SamplesPerPixel = 1 # black photo \n",
    "    ds.NumberOfFrames = 1 # it is photo \n",
    "    ds.PhotometricInterpretation = \"MONOCHROME\"\n",
    "    ds.PlanarConfiguration = 0\n",
    "    \n",
    "    print(\"Writing test file\", filename_little_endian)\n",
    "    ds.save_as(filename)\n",
    "    print(\"File saved.\")"
   ]
  },
  {
   "cell_type": "code",
   "execution_count": null,
   "metadata": {},
   "outputs": [],
   "source": [
    "write_dicom(iradon)"
   ]
  },
  {
   "cell_type": "code",
   "execution_count": null,
   "metadata": {},
   "outputs": [],
   "source": [
    "def readDicom(filename=\"iradon.dcm\"):\n",
    "    ds = dcmread(filename)\n",
    "    # Load dimensions based on the number of rows, columns, and slices (along the Z axis)\n",
    "    ConstPixelDims = (int(ds.Rows), int(ds.Columns))\n",
    "\n",
    "    ArrayDicom = np.zeros(ConstPixelDims, dtype=np.int8)\n",
    "    ArrayDicom = ds.pixel_array \n",
    "\n",
    "    plt.imshow(ArrayDicom, cmap=plt.cm.bone)\n",
    "    plt.show()\n",
    "\n",
    "    return ArrayDicom"
   ]
  },
  {
   "cell_type": "code",
   "execution_count": null,
   "metadata": {},
   "outputs": [],
   "source": [
    "readDicom()"
   ]
  },
  {
   "cell_type": "markdown",
   "metadata": {},
   "source": [
    "## Część na 5.0 "
   ]
  },
  {
   "cell_type": "code",
   "execution_count": null,
   "metadata": {},
   "outputs": [],
   "source": [
    "from sklearn.metrics import mean_squared_error"
   ]
  },
  {
   "cell_type": "code",
   "execution_count": null,
   "metadata": {},
   "outputs": [],
   "source": [
    "img = plt.imread(\"Shepp_logan.jpg\")\n",
    "y_true = img[...,0]\n",
    "y_true = y_true / y_true.max()"
   ]
  },
  {
   "cell_type": "code",
   "execution_count": null,
   "metadata": {},
   "outputs": [],
   "source": [
    "n = 180\n",
    "l = 180\n",
    "s = 180\n",
    "alfa = 180/s"
   ]
  },
  {
   "cell_type": "markdown",
   "metadata": {},
   "source": [
    "i. liczba detektorów zmienia się od 90 do 720 z krokiem 90,"
   ]
  },
  {
   "cell_type": "code",
   "execution_count": null,
   "metadata": {},
   "outputs": [],
   "source": [
    "def eksperyment1_1(y_true):\n",
    "    n = 180 \n",
    "    l = 180\n",
    "    s = 180\n",
    "    alfa = 180/s\n",
    "    nExperiment = {}\n",
    "    for n in range(90, 721, 90):\n",
    "        iradon_mse = list()\n",
    "        filtered_mse = list()\n",
    "        iradon = projekt1(\"Shepp_logan.jpg\", alfa, n, l,gifFlag=False, filter=True)\n",
    "        \n",
    "        print(n)\n",
    "        \n",
    "        plt.imshow(iradon, cmap=plt.cm.bone)\n",
    "        plt.title(f\"Iradon image non filtered. n: {n}, l: {l}, alfa:{alfa}\")\n",
    "        plt.savefig(f\"./nExperiment/{n}_nonfiltered.jpg\")\n",
    "        \n",
    "        nExperiment[n] = mean_squared_error(y_true, iradon, squared=False)\n",
    "    return nExperiment"
   ]
  },
  {
   "cell_type": "code",
   "execution_count": null,
   "metadata": {},
   "outputs": [],
   "source": [
    "nExperiment = eksperyment1_1(y_true)"
   ]
  },
  {
   "cell_type": "markdown",
   "metadata": {},
   "source": [
    "ii. liczba skanów zmienia się od 90 do 720 z krokiem 90,"
   ]
  },
  {
   "cell_type": "code",
   "execution_count": null,
   "metadata": {},
   "outputs": [],
   "source": [
    "def eksperyment1_2(y_true):\n",
    "    n = 180 \n",
    "    l = 180\n",
    "    s = 180\n",
    "    alfa = 180/s\n",
    "    sExperiment = {}\n",
    "    for s in range(90, 721, 90):\n",
    "        iradon_mse = list()\n",
    "        filtered_mse = list()\n",
    "        alfa = 180/s\n",
    "        iradon = projekt1(\"Shepp_logan.jpg\", alfa, n, l,gifFlag=False, filter=False)\n",
    "        \n",
    "        print(s)\n",
    "        \n",
    "        plt.imshow(iradon, cmap=plt.cm.bone)\n",
    "        plt.title(f\"Iradon image non filtered. n: {n}, l: {l}, alfa:{alfa}\")\n",
    "        plt.savefig(f\"./sExperiment/{s}_nonfiltered.jpg\")\n",
    "\n",
    "        sExperiment[s] = mean_squared_error(y_true, iradon, squared=False)\n",
    "    return sExperiment"
   ]
  },
  {
   "cell_type": "code",
   "execution_count": null,
   "metadata": {},
   "outputs": [],
   "source": [
    "sExperiment = eksperyment1_2(y_true)"
   ]
  },
  {
   "cell_type": "code",
   "execution_count": null,
   "metadata": {},
   "outputs": [],
   "source": [
    "def eksperyment1_3(y_true):\n",
    "    n = 360 \n",
    "    l = 270\n",
    "    s = 180\n",
    "    alfa = 180/s\n",
    "    lExperiment = {}\n",
    "    for l in range(45, 271, 45):\n",
    "        iradon_mse = list()\n",
    "        iradon= projekt1(\"Shepp_logan.jpg\", alfa, n, l,gifFlag=False, filter=False)\n",
    "        print(l)\n",
    "        \n",
    "        plt.imshow(iradon, cmap=plt.cm.bone)\n",
    "        plt.title(f\"Iradon image non filtered. n: {n}, l: {l}, alfa:{alfa}\")\n",
    "        plt.savefig(f\"./lExperiment/{l}_nonfiltered.jpg\")\n",
    "        \n",
    "        lExperiment[l] = mean_squared_error(y_true, iradon, squared=False)\n",
    "\n",
    "    return lExperiment"
   ]
  },
  {
   "cell_type": "code",
   "execution_count": null,
   "metadata": {},
   "outputs": [],
   "source": [
    "lExperiment = eksperyment1_2(y_true)"
   ]
  },
  {
   "cell_type": "code",
   "execution_count": null,
   "metadata": {},
   "outputs": [],
   "source": [
    "def eksperyment2(y_true):\n",
    "    n = 360 \n",
    "    l = 270\n",
    "    s = 360\n",
    "    alfa = 180/s\n",
    "\n",
    "        \n",
    "    iradon= projekt1(\"Shepp_logan.jpg\", alfa, n, l,gifFlag=False, filter=False)\n",
    "    iradon_filtered= projekt1(\"Shepp_logan.png\", alfa, n, l,gifFlag=False, filter=True)\n",
    "\n",
    "    rmse = mean_squared_error(y_true, iradon, squared=False)\n",
    "    rmse_filtered = mean_squared_error(y_true, iradon_filtered, squared=False)\n",
    "\n",
    "    plt.imshow(iradon, cmap=plt.cm.bone)\n",
    "    plt.title(f\"Iradon image non filtered. RMSE: {rmse}. n: {n}, l: {l}, alfa:{alfa}\")\n",
    "    plt.savefig(f\"./4Experiment/nonfiltered.png\")\n",
    "    \n",
    "    plt.imshow(iradon_filtered, cmap=plt.cm.bone)\n",
    "    plt.title(f\"Iradon image filtered. RMSE: {rmse_filtered}. n: {n}, l: {l}, alfa:{alfa}\")\n",
    "    plt.savefig(f\"./4Experiment/filtered.png\")\n",
    "\n",
    "    \n",
    "    return lExperiment"
   ]
  },
  {
   "cell_type": "code",
   "execution_count": null,
   "metadata": {},
   "outputs": [],
   "source": [
    "eksperyment2(y_true)"
   ]
  },
  {
   "cell_type": "code",
   "execution_count": null,
   "metadata": {},
   "outputs": [],
   "source": []
  },
  {
   "cell_type": "code",
   "execution_count": null,
   "metadata": {},
   "outputs": [],
   "source": []
  },
  {
   "cell_type": "code",
   "execution_count": null,
   "metadata": {},
   "outputs": [],
   "source": []
  },
  {
   "cell_type": "code",
   "execution_count": null,
   "metadata": {},
   "outputs": [],
   "source": []
  },
  {
   "cell_type": "code",
   "execution_count": null,
   "metadata": {},
   "outputs": [],
   "source": []
  }
 ],
 "metadata": {
  "kernelspec": {
   "display_name": "Python 3",
   "language": "python",
   "name": "python3"
  },
  "language_info": {
   "codemirror_mode": {
    "name": "ipython",
    "version": 3
   },
   "file_extension": ".py",
   "mimetype": "text/x-python",
   "name": "python",
   "nbconvert_exporter": "python",
   "pygments_lexer": "ipython3",
   "version": "3.6.3rc1"
  }
 },
 "nbformat": 4,
 "nbformat_minor": 2
}
